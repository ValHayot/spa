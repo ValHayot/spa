{
 "cells": [
  {
   "cell_type": "code",
   "execution_count": 2,
   "metadata": {},
   "outputs": [],
   "source": [
    "import json\n",
    "\n",
    "batch_file = '../data/json/batch_total_dedicated.json'\n",
    "pilots8_file = '../data/json/pilots8_total_dedicated.json'\n",
    "pilots16_file = '../data/json/pilots16_total_dedicated.json'\n",
    "\n",
    "def load_json(fn):\n",
    "    with open(fn, 'r') as f:\n",
    "        return json.load(f)\n",
    "\n",
    "batch = load_json(batch_file)\n",
    "pilots8 = load_json(pilots8_file)\n",
    "pilots16 = load_json(pilots16_file)"
   ]
  },
  {
   "cell_type": "code",
   "execution_count": 3,
   "metadata": {},
   "outputs": [
    {
     "name": "stdout",
     "output_type": "stream",
     "text": [
      "some 1d failed\n",
      "some 3d failed\n",
      "some 3d failed\n",
      "some 1d failed\n",
      "some 2d failed\n",
      "some 1d failed\n",
      "some 1d failed\n",
      "some 3d failed\n",
      "some 1d failed\n",
      "some 2d failed\n",
      "some 1d failed\n",
      "some 2d failed\n",
      "some 1d failed\n",
      "some 1d failed\n",
      "some 2d failed\n",
      "some 2d failed\n",
      "some 1d failed\n",
      "some 1d failed\n",
      "some 2d failed\n"
     ]
    }
   ],
   "source": [
    "#get makespans\n",
    "assert(len(batch)==len(pilots8)==len(pilots16))\n",
    "\n",
    "def makespan_dict():\n",
    "    return { 'batch': [], '8pilots': [], '16pilots': [] }\n",
    "def all_succeeded(i):\n",
    "    return batch[i]['success'] and pilots8[i]['success'] and pilots16[i]['success']\n",
    "\n",
    "dedicated_1 = makespan_dict()\n",
    "dedicated_2 = makespan_dict()\n",
    "dedicated_3 = makespan_dict()\n",
    "\n",
    "get_makespan = lambda x: x['end_time'] - x['start_time'] if x['success'] else 0\n",
    "is_same = lambda x, i: x in pilots8[i]['name'] and x in pilots16[i]['name']\n",
    "current_dict = None\n",
    "for i in range(len(batch)):\n",
    "    if 'single' in batch[i]['name']:\n",
    "        assert(is_same('1d', i))\n",
    "        current_dict = dedicated_1\n",
    "        if not all_succeeded(i):\n",
    "            print('some 1d failed')\n",
    "    elif 'double' in batch[i]['name']:\n",
    "        assert(is_same('2d', i))\n",
    "        current_dict = dedicated_2\n",
    "        if all_succeeded(i):\n",
    "            print('some 2d failed')\n",
    "    elif 'triple' in batch[i]['name']:\n",
    "        assert(is_same('3d', i))\n",
    "        current_dict = dedicated_3\n",
    "        if not all_succeeded(i):\n",
    "            print('some 3d failed')\n",
    "    current_dict['batch'].append(get_makespan(batch[i]))\n",
    "    current_dict['8pilots'].append(get_makespan(pilots8[i]))\n",
    "    current_dict['16pilots'].append(get_makespan(pilots16[i]))\n",
    "        "
   ]
  },
  {
   "cell_type": "code",
   "execution_count": 4,
   "metadata": {},
   "outputs": [
    {
     "name": "stdout",
     "output_type": "stream",
     "text": [
      "(0, 4966.132769012451, 4063.195360302925) (0, 4965.146288663149, 4110.417954444885) (0, 4970.555997201374, 4331.239671468735)\n"
     ]
    }
   ],
   "source": [
    "from statistics import mean\n",
    "\n",
    "def get_mean(x):\n",
    "    values = [i for i in x if i != 0]\n",
    "    if len(values) > 0:\n",
    "        return mean(values)\n",
    "    return 0\n",
    "\n",
    "get_all_means = lambda i: (get_mean(dedicated_1[i]), get_mean(dedicated_2[i]), get_mean(dedicated_3[i]))\n",
    "batch_mean = get_all_means('batch')\n",
    "pilots8_mean = get_all_means('8pilots')\n",
    "pilots16_mean = get_all_means('16pilots')\n",
    "print(batch_mean, pilots8_mean, pilots16_mean)"
   ]
  },
  {
   "cell_type": "code",
   "execution_count": 5,
   "metadata": {
    "scrolled": true
   },
   "outputs": [
    {
     "data": {
      "text/plain": [
       "<Figure size 640x480 with 1 Axes>"
      ]
     },
     "metadata": {},
     "output_type": "display_data"
    }
   ],
   "source": [
    "from matplotlib import pyplot as plt\n",
    "import numpy as np\n",
    "\n",
    "n_groups = 3\n",
    "\n",
    "fig, ax = plt.subplots()\n",
    "\n",
    "index = np.arange(n_groups)\n",
    "bar_width = 0.30\n",
    "\n",
    "opacity = 0.4\n",
    "\n",
    "rects1 = ax.bar(index, batch_mean, bar_width,\n",
    "                alpha=opacity, color='r',\n",
    "                label='batch')\n",
    "\n",
    "rects2 = ax.bar(index + bar_width, pilots8_mean, bar_width,\n",
    "                alpha=opacity, color='b',\n",
    "                label='8 pilots')\n",
    "\n",
    "rects3 = ax.bar(index + 2*bar_width, pilots16_mean, bar_width,\n",
    "                alpha=opacity, color='green',\n",
    "                label='16 pilots')\n",
    "\n",
    "ax.set_xlabel('# dedicated nodes')\n",
    "ax.set_ylabel('mean makespan (s)')\n",
    "ax.set_title('Beluga')\n",
    "ax.set_xticks(index + bar_width / 2)\n",
    "ax.set_xticklabels((1, 2, 3))\n",
    "ax.legend()\n",
    "\n",
    "plt.show()"
   ]
  },
  {
   "cell_type": "markdown",
   "metadata": {},
   "source": [
    "## FIGURE 0 - RAW"
   ]
  },
  {
   "cell_type": "code",
   "execution_count": 6,
   "metadata": {},
   "outputs": [],
   "source": [
    "## individual bar charts\n",
    "\n",
    "def individual_charts(data, n_dedicated):\n",
    "    n_groups = len(data['batch'])\n",
    "\n",
    "    fig, ax = plt.subplots()\n",
    "\n",
    "    index = np.arange(n_groups)\n",
    "    bar_width = 0.30\n",
    "\n",
    "    opacity = 0.4\n",
    "\n",
    "    rects1 = ax.bar(index, data['batch'], bar_width,\n",
    "                    alpha=opacity, color='r',\n",
    "                    label='batch')\n",
    "\n",
    "    rects2 = ax.bar(index + bar_width, data['8pilots'], bar_width,\n",
    "                    alpha=opacity, color='b',\n",
    "                    label='8 pilots')\n",
    "\n",
    "    rects3 = ax.bar(index + 2*bar_width, data['16pilots'], bar_width,\n",
    "                    alpha=opacity, color='green',\n",
    "                    label='16 pilots')\n",
    "\n",
    "    ax.set_xlabel('Iteration #')\n",
    "    ax.set_ylabel('makespan (s)')\n",
    "    ax.set_title('Beluga - {} dedicated'.format(n_dedicated))\n",
    "    ax.set_xticks(index + bar_width / 2)\n",
    "    ax.set_xticklabels((i + 1 for i in range(n_groups)))\n",
    "    ax.legend()\n",
    "\n",
    "    plt.show()"
   ]
  },
  {
   "cell_type": "code",
   "execution_count": 7,
   "metadata": {},
   "outputs": [
    {
     "data": {
      "image/png": "[encoded data removed]",
      "text/plain": [
       "<Figure size 432x288 with 1 Axes>"
      ]
     },
     "metadata": {
      "needs_background": "light"
     },
     "output_type": "display_data"
    }
   ],
   "source": [
    "## 1 dedicated\n",
    "individual_charts(dedicated_1, 1)"
   ]
  },
  {
   "cell_type": "code",
   "execution_count": 8,
   "metadata": {},
   "outputs": [
    {
     "data": {
      "image/png": "[encoded data removed]",
      "text/plain": [
       "<Figure size 432x288 with 1 Axes>"
      ]
     },
     "metadata": {
      "needs_background": "light"
     },
     "output_type": "display_data"
    },
    {
     "name": "stdout",
     "output_type": "stream",
     "text": [
      "[1235.9490327835083, 3912.079436779022, 3909.4779620170593, 3908.498528242111, 4215.985035419464, 3911.2241365909576, 3912.9592785835266, 3911.9120168685913, 3910.430239677429, 16832.81202316284]\n"
     ]
    }
   ],
   "source": [
    "## 2 dedicated\n",
    "individual_charts(dedicated_2, 2)\n",
    "print(dedicated_2['batch'])"
   ]
  },
  {
   "cell_type": "code",
   "execution_count": 9,
   "metadata": {},
   "outputs": [
    {
     "data": {
      "image/png": "[encoded data removed]",
      "text/plain": [
       "<Figure size 432x288 with 1 Axes>"
      ]
     },
     "metadata": {
      "needs_background": "light"
     },
     "output_type": "display_data"
    }
   ],
   "source": [
    "## 3 dedicated\n",
    "individual_charts(dedicated_3, 3)"
   ]
  },
  {
   "cell_type": "markdown",
   "metadata": {},
   "source": [
    "## FIGURE 1 - Makespan difference"
   ]
  },
  {
   "cell_type": "code",
   "execution_count": 10,
   "metadata": {},
   "outputs": [],
   "source": [
    "def get_dedicated_data(dedicated_dict, num_pilot):\n",
    "    batch = dedicated_dict['batch']\n",
    "    pilot = dedicated_dict['{}pilots'.format(num_pilot)]\n",
    "    data = [batch[i] - pilot[i] for i in range(len(batch)) if batch[i] != 0 and pilot[i] != 0]\n",
    "    return data\n",
    "    \n",
    "def makespan_box(dedicated_1, dedicate_2, dedicated_3, num_pilot):\n",
    "    fig, ax = plt.subplots()\n",
    "    data = [get_dedicated_data(dedicated_1, num_pilot),\n",
    "            get_dedicated_data(dedicated_2, num_pilot),\n",
    "            get_dedicated_data(dedicated_3, num_pilot)]\n",
    "    pos = np.array(range(len(data))) + 1\n",
    "    bp = ax.boxplot(data, sym='k+', positions=pos)\n",
    "    \n",
    "    ax.set_xlabel('# dedicated')\n",
    "    ax.set_ylabel('makespan')\n",
    "    ax.set_title('Beluga - {} pilots'.format(num_pilot))\n",
    "    plt.setp(bp['whiskers'], color='k', linestyle='-')\n",
    "    plt.setp(bp['fliers'], markersize=3.0)\n",
    "    plt.show()\n",
    "    "
   ]
  },
  {
   "cell_type": "code",
   "execution_count": 11,
   "metadata": {},
   "outputs": [
    {
     "data": {
      "image/png": "[encoded data removed]",
      "text/plain": [
       "<Figure size 432x288 with 1 Axes>"
      ]
     },
     "metadata": {
      "needs_background": "light"
     },
     "output_type": "display_data"
    }
   ],
   "source": [
    "makespan_box(dedicated_1, dedicated_2, dedicated_3, 8)"
   ]
  },
  {
   "cell_type": "code",
   "execution_count": 12,
   "metadata": {},
   "outputs": [
    {
     "data": {
      "image/png": "[encoded data removed]",
      "text/plain": [
       "<Figure size 432x288 with 1 Axes>"
      ]
     },
     "metadata": {
      "needs_background": "light"
     },
     "output_type": "display_data"
    }
   ],
   "source": [
    "makespan_box(dedicated_1, dedicated_2, dedicated_3, 16)"
   ]
  },
  {
   "cell_type": "markdown",
   "metadata": {},
   "source": [
    "## Figure 2 - Queuing time difference"
   ]
  },
  {
   "cell_type": "code",
   "execution_count": 13,
   "metadata": {},
   "outputs": [],
   "source": [
    "def queuing_time(batch_data, pilot_data):\n",
    "    return [batch_data[i]['sid'][0]['start_time'] - min([p['start_time'] for p in pilot_data[i]['sid']])\n",
    "            for i in range(len(batch_data))\n",
    "            if batch_data[i]['success'] and pilot_data[i]['success']]\n",
    "\n",
    "def makespan_all(batch_data, pilot_data):\n",
    "    return [(batch_data[i]['end_time'] - batch_data[i]['start_time']) - \n",
    "            (pilot_data[i]['end_time'] - pilot_data[i]['start_time'])\n",
    "            for i in range(len(batch_data))\n",
    "            if batch_data[i]['success'] and pilot_data[i]['success']]\n",
    "    \n",
    "def makespan_queue(num_pilot):\n",
    "    pilot_data = None\n",
    "    if num_pilot == 8:\n",
    "        pilot_data = pilots8\n",
    "    else:\n",
    "        pilot_data = pilots16\n",
    "    return (queuing_time(batch, pilot_data), makespan_all(batch, pilot_data))\n",
    "\n",
    "def queue_scatter(queue, ms, num_pilot, system=\"Beluga\"):\n",
    "    fig, ax = plt.subplots()\n",
    "    ax.scatter(queue, ms, alpha=0.5)\n",
    "    \n",
    "    b, m = np.polynomial.polynomial.polyfit(queue, ms, 1)\n",
    "    ax.plot(np.asarray(queue), b + m * np.asarray(queue), '-')\n",
    "    ax.set_xlabel('Queuing time difference of first pilot')\n",
    "    ax.set_ylabel('Makespan difference')\n",
    "    ax.set_title('{0} - {1} pilots'.format(system, num_pilot))\n",
    "    plt.show()\n",
    "    \n",
    "    print('Regression line: {0}x + {1}'.format(m, b))"
   ]
  },
  {
   "cell_type": "code",
   "execution_count": 14,
   "metadata": {},
   "outputs": [
    {
     "data": {
      "image/png": "[encoded data removed]",
      "text/plain": [
       "<Figure size 432x288 with 1 Axes>"
      ]
     },
     "metadata": {
      "needs_background": "light"
     },
     "output_type": "display_data"
    },
    {
     "name": "stdout",
     "output_type": "stream",
     "text": [
      "Regression line: 0.9521774633564813x + -545.2109677222959\n"
     ]
    }
   ],
   "source": [
    "# Beluga 8 pilots\n",
    "queue_scatter(*makespan_queue(8), num_pilot=8)\n"
   ]
  },
  {
   "cell_type": "code",
   "execution_count": 15,
   "metadata": {},
   "outputs": [
    {
     "data": {
      "image/png": "[encoded data removed]",
      "text/plain": [
       "<Figure size 432x288 with 1 Axes>"
      ]
     },
     "metadata": {
      "needs_background": "light"
     },
     "output_type": "display_data"
    },
    {
     "name": "stdout",
     "output_type": "stream",
     "text": [
      "Regression line: 0.9598519082804118x + -653.8267871884239\n"
     ]
    }
   ],
   "source": [
    "#Beluga 16 pilots\n",
    "queue_scatter(*makespan_queue(16), num_pilot=16)"
   ]
  },
  {
   "cell_type": "markdown",
   "metadata": {},
   "source": [
    "## Figure 3A - Average number of nodes"
   ]
  },
  {
   "cell_type": "code",
   "execution_count": 16,
   "metadata": {},
   "outputs": [],
   "source": [
    "from math import floor\n",
    "\n",
    "def get_pilot_info(job, t):\n",
    "    if job['end_time'] is None:\n",
    "        return []\n",
    "    makespan_dict = {}\n",
    "    \n",
    "    makespan_dict[job['start_time']] = []\n",
    "    makespan_dict[job['end_time']] = []\n",
    "    # First passage\n",
    "    for sid in job['sid']:\n",
    "        if sid['start_time'] not in makespan_dict:\n",
    "            makespan_dict[sid['start_time']] = [sid[t][0] if t == 'nodes' else sid[t]]\n",
    "        else:\n",
    "            makespan_dict[sid['start_time']].extend(sid[t] if t == 'nodes' else [sid[t]])\n",
    "           \n",
    "        if sid['end_time'] is None:\n",
    "            sid['end_time'] = job['end_time']\n",
    "        if sid['end_time'] not in makespan_dict:\n",
    "            makespan_dict[sid['end_time']] = [sid[t][0] if t == 'nodes' else sid[t]]\n",
    "        else:\n",
    "            makespan_dict[sid['end_time']].extend(sid[t] if t == 'nodes' else [sid[t]])\n",
    "    # Second passage\n",
    "    for sid in job['sid']:\n",
    "        for k,v in makespan_dict.items():\n",
    "            if k > sid['start_time'] and k < sid['end_time']:\n",
    "                v.extend(sid['nodes'])\n",
    "    \n",
    "    return [(k, len(set(v))) for k, v in sorted(makespan_dict.items())]\n",
    "\n",
    "pilot_avgtype = lambda x: sum([(x[i][1]*(x[i+1][0] - x[i][0])) \n",
    "                                for i in range(1, len(x) - 1)])/(x[-1][0] - x[0][0])\n",
    "get_pilot_avgnodes = lambda x,y: ((pilot_avgtype(get_pilot_info(x, 'nodes'))),\n",
    "                                  (y['end_time'] - y['start_time']) - (x['end_time'] - x['start_time']),\n",
    "                                   x['end_time'] - x['start_time'])\n",
    "\n",
    "\n",
    "get_batch_avgnodes = lambda x:(((len(set(x['sid'][0]['nodes'])) *\n",
    "                                  (x['sid'][0]['end_time'] - x['sid'][0]['start_time'])) /\n",
    "                              (x['end_time'] - x['start_time'])), x['end_time'] - x['start_time'])\n",
    "\n"
   ]
  },
  {
   "cell_type": "code",
   "execution_count": 17,
   "metadata": {},
   "outputs": [],
   "source": [
    "avgn_8pilots = [get_pilot_avgnodes(job, batch[idx])\n",
    "               for idx, job in enumerate(pilots8)\n",
    "               if job['success'] and job['end_time'] is not None and batch[idx]['success']]\n",
    "avgn_16pilots = [get_pilot_avgnodes(job, batch[idx])\n",
    "                for idx, job in enumerate(pilots16)\n",
    "                if job['success'] and job['end_time'] is not None and batch[idx]['success']]\n",
    "avgn_batch = [get_batch_avgnodes(job) for job in batch if job['success'] and job['end_time'] is not None]"
   ]
  },
  {
   "cell_type": "code",
   "execution_count": 18,
   "metadata": {},
   "outputs": [],
   "source": [
    "def avg_scatter(data, num_pilot, type='node', system=\"Beluga\"):\n",
    "    fig, ax = plt.subplots()\n",
    "    avg_els = [i[0] for i in data]\n",
    "    makespan_diff = [i[1] for i in data]\n",
    "    ax.scatter(avg_els, makespan_diff, alpha=0.5)\n",
    "    \n",
    "    b, m = np.polynomial.polynomial.polyfit(avg_els, makespan_diff, 1)\n",
    "    ax.plot(np.asarray(avg_els), b + m * np.asarray(avg_els), '-')\n",
    "    ax.set_xlabel('Average number of {}'.format(type))\n",
    "    ax.set_ylabel('Makespan difference')\n",
    "    ax.set_title('{0} - {1} pilots'.format(system, num_pilot))\n",
    "    plt.show()\n",
    "    \n",
    "    print('Regression line: {0}x + {1}'.format(m, b))"
   ]
  },
  {
   "cell_type": "code",
   "execution_count": 19,
   "metadata": {},
   "outputs": [
    {
     "data": {
      "image/png": "[encoded data removed]",
      "text/plain": [
       "<Figure size 432x288 with 1 Axes>"
      ]
     },
     "metadata": {
      "needs_background": "light"
     },
     "output_type": "display_data"
    },
    {
     "name": "stdout",
     "output_type": "stream",
     "text": [
      "Regression line: 730.8306517893507x + -4125.4845676083705\n"
     ]
    }
   ],
   "source": [
    "# 8 pilots\n",
    "avg_scatter(avgn_8pilots, 8)"
   ]
  },
  {
   "cell_type": "code",
   "execution_count": 20,
   "metadata": {},
   "outputs": [
    {
     "data": {
      "image/png": "[encoded data removed]",
      "text/plain": [
       "<Figure size 432x288 with 1 Axes>"
      ]
     },
     "metadata": {
      "needs_background": "light"
     },
     "output_type": "display_data"
    },
    {
     "name": "stdout",
     "output_type": "stream",
     "text": [
      "Regression line: 176.32312823209728x + -1711.3370012696587\n"
     ]
    }
   ],
   "source": [
    "# 16 pilots\n",
    "avg_scatter(avgn_16pilots, 16)"
   ]
  },
  {
   "cell_type": "markdown",
   "metadata": {},
   "source": [
    "## Figure 3B - Average number of pilots"
   ]
  },
  {
   "cell_type": "code",
   "execution_count": 21,
   "metadata": {},
   "outputs": [],
   "source": [
    "get_avgpilots = lambda x,y: ((pilot_avgtype(get_pilot_info(x, 'id'))),\n",
    "                                  (y['end_time'] - y['start_time']) - (x['end_time'] - x['start_time']))\n",
    "avgp_8pilots = [get_avgpilots(job, batch[idx])\n",
    "               for idx, job in enumerate(pilots8)\n",
    "               if job['success'] and job['end_time'] is not None and batch[idx]['success']]\n",
    "avgp_16pilots = [get_avgpilots(job, batch[idx])\n",
    "                for idx, job in enumerate(pilots16)\n",
    "                if job['success'] and job['end_time'] is not None and batch[idx]['success']]\n"
   ]
  },
  {
   "cell_type": "code",
   "execution_count": 22,
   "metadata": {},
   "outputs": [
    {
     "data": {
      "image/png": "[encoded data removed]",
      "text/plain": [
       "<Figure size 432x288 with 1 Axes>"
      ]
     },
     "metadata": {
      "needs_background": "light"
     },
     "output_type": "display_data"
    },
    {
     "name": "stdout",
     "output_type": "stream",
     "text": [
      "Regression line: 599.3798801222465x + -3656.63308174335\n"
     ]
    }
   ],
   "source": [
    "# 8 pilots\n",
    "avg_scatter(avgp_8pilots, 8, 'pilots')"
   ]
  },
  {
   "cell_type": "code",
   "execution_count": 23,
   "metadata": {},
   "outputs": [
    {
     "data": {
      "image/png": "[encoded data removed]",
      "text/plain": [
       "<Figure size 432x288 with 1 Axes>"
      ]
     },
     "metadata": {
      "needs_background": "light"
     },
     "output_type": "display_data"
    },
    {
     "name": "stdout",
     "output_type": "stream",
     "text": [
      "Regression line: 122.50737230499273x + -1159.4538763847738\n"
     ]
    }
   ],
   "source": [
    "avg_scatter(avgp_16pilots, 16, 'pilots')"
   ]
  },
  {
   "cell_type": "code",
   "execution_count": 24,
   "metadata": {},
   "outputs": [],
   "source": [
    "num_cpus = { '1d': [16, 2, 1], '2d': [16, 4, 2], '3d': [16, 6, 4]}\n",
    "\n",
    "def get_ncpus(name):\n",
    "    if 'single' in name:\n",
    "        return 16\n",
    "    elif '8n1d' in name:\n",
    "        return 2\n",
    "    elif '16n1d' in name:\n",
    "        return 1\n",
    "    elif 'double' in name:\n",
    "        return 32\n",
    "    elif '8n2d' in name:\n",
    "        return 4\n",
    "    elif '16n2d' in name:\n",
    "        return 2\n",
    "    elif 'triple' in name:\n",
    "        return 48\n",
    "    elif '8n3d' in name:\n",
    "        return 6\n",
    "    elif '16n3d':\n",
    "        return 4\n",
    "\n",
    "get_pilot_avgpilots = lambda x,y: ((pilot_avgtype(get_pilot_info(x, 'id'))),\n",
    "                                  (y['end_time'] - y['start_time']) - (x['end_time'] - x['start_time']),\n",
    "                                   x['end_time'] - x['start_time'])\n",
    "\n",
    "\n",
    "get_batch_avgpilots = lambda x:(((len(set(x['sid'][0]['nodes'])) *\n",
    "                                  (x['sid'][0]['end_time'] - x['sid'][0]['start_time'])) /\n",
    "                              (x['end_time'] - x['start_time'])), x['end_time'] - x['start_time'])\n",
    "\n",
    "batch_pilots8 = list(zip(batch, pilots8))\n",
    "m1_m2_b8 = [(el[0]['end_time'] - el[0]['start_time']) / (el[1]['end_time'] - el[1]['start_time'])\n",
    "            for el in batch_pilots8 if el[0]['success'] and el[1]['success']]\n",
    "\n",
    "w1_w2_b8 = [(get_pilot_avgpilots(el[1], el[0])[0] * get_ncpus(el[1]['name'])) / \n",
    "            (get_batch_avgpilots(el[0])[0] * get_ncpus(el[0]['name']))\n",
    "            for el in batch_pilots8 if el[0]['success'] and el[1]['success']]\n",
    "\n",
    "batch_pilots16 = list(zip(batch, pilots16))\n",
    "m1_m2_b16 = [(el[0]['end_time'] - el[0]['start_time']) / (el[1]['end_time'] - el[1]['start_time'])\n",
    "            for el in batch_pilots16 if el[0]['success'] and el[1]['success']]\n",
    "\n",
    "w1_w2_b16 = [(get_pilot_avgpilots(el[1], el[0])[0] * get_ncpus(el[1]['name']) / \n",
    "              (get_batch_avgpilots(el[0])[0] * get_ncpus(el[0]['name'])))\n",
    "            for el in batch_pilots16 if el[0]['success'] and el[1]['success']]\n",
    "\n",
    "\n"
   ]
  },
  {
   "cell_type": "code",
   "execution_count": 25,
   "metadata": {},
   "outputs": [],
   "source": [
    "def basic_model(w1w2, m1m2, num_pilot, system=\"Beluga\"):\n",
    "    fig, ax = plt.subplots()\n",
    "\n",
    "    ax.scatter(w1w2, m1m2, alpha=0.5)\n",
    "    \n",
    "    b, m = np.polynomial.polynomial.polyfit(w1w2, m1m2, 1)\n",
    "    ax.plot(np.asarray(w1w2), b + m * np.asarray(w1w2), '-')\n",
    "    ax.set_xlabel('W2 - pilot / W1 - batch')\n",
    "    ax.set_ylabel('M1 - batch / M2 - pilot')\n",
    "    ax.set_title('{0} - {1} pilots'.format(system, num_pilot))\n",
    "    plt.show()\n",
    "    \n",
    "    print('Regression line: {0}x + {1}'.format(m, b))"
   ]
  },
  {
   "cell_type": "code",
   "execution_count": 26,
   "metadata": {
    "scrolled": true
   },
   "outputs": [
    {
     "data": {
      "image/png": "[encoded data removed]",
      "text/plain": [
       "<Figure size 432x288 with 1 Axes>"
      ]
     },
     "metadata": {
      "needs_background": "light"
     },
     "output_type": "display_data"
    },
    {
     "name": "stdout",
     "output_type": "stream",
     "text": [
      "Regression line: 1.5304992496062295x + 0.35479034268703896\n"
     ]
    }
   ],
   "source": [
    "# 8 pilots\n",
    "basic_model(w1_w2_b8, m1_m2_b8, 8)"
   ]
  },
  {
   "cell_type": "code",
   "execution_count": 27,
   "metadata": {},
   "outputs": [
    {
     "data": {
      "image/png": "[encoded data removed]",
      "text/plain": [
       "<Figure size 432x288 with 1 Axes>"
      ]
     },
     "metadata": {
      "needs_background": "light"
     },
     "output_type": "display_data"
    },
    {
     "name": "stdout",
     "output_type": "stream",
     "text": [
      "Regression line: 1.8067647706712195x + 0.2061396438959424\n"
     ]
    }
   ],
   "source": [
    "basic_model(w1_w2_b16, m1_m2_b16, 16)"
   ]
  },
  {
   "cell_type": "code",
   "execution_count": 28,
   "metadata": {},
   "outputs": [
    {
     "data": {
      "text/plain": [
       "[(192.193712648516, 32),\n",
       " (60.79104818138516, 32),\n",
       " (135.83591447294177, 48),\n",
       " (60.78242509621408, 32),\n",
       " (135.7796853714852, 48),\n",
       " (60.779329381105605, 32),\n",
       " (135.91834071709664, 48),\n",
       " (56.339452581233765, 32),\n",
       " (117.6393097442429, 48),\n",
       " (60.64518910968944, 32),\n",
       " (60.68036145188912, 32),\n",
       " (135.5009374535252, 48),\n",
       " (60.71588864398115, 32),\n",
       " (135.79913014214253, 48),\n",
       " (60.63106055393189, 32),\n",
       " (135.85228981053888, 48),\n",
       " (117.72767439233415, 48),\n",
       " (14.132091332776978, 32)]"
      ]
     },
     "execution_count": 28,
     "metadata": {},
     "output_type": "execute_result"
    }
   ],
   "source": [
    "m1_m2_batch = [el['end_time'] - el['start_time']\n",
    "            for el in batch if el['success']]\n",
    "\n",
    "w1_w2_batch = [(get_batch_avgpilots(el)[0] * get_ncpus(el['name']), get_ncpus(el['name']))\n",
    "            for el in batch if el['success']]\n",
    "w1_w2_batch"
   ]
  },
  {
   "cell_type": "code",
   "execution_count": 29,
   "metadata": {},
   "outputs": [
    {
     "ename": "ValueError",
     "evalue": "x and y must be the same size",
     "output_type": "error",
     "traceback": [
      "\u001b[0;31m---------------------------------------------------------------------------\u001b[0m",
      "\u001b[0;31mValueError\u001b[0m                                Traceback (most recent call last)",
      "\u001b[0;32m<ipython-input-29-8078d584c617>\u001b[0m in \u001b[0;36m<module>\u001b[0;34m\u001b[0m\n\u001b[0;32m----> 1\u001b[0;31m \u001b[0mbasic_model\u001b[0m\u001b[0;34m(\u001b[0m\u001b[0mw1_w2_batch\u001b[0m\u001b[0;34m,\u001b[0m \u001b[0mm1_m2_batch\u001b[0m\u001b[0;34m,\u001b[0m \u001b[0;34m\"batch\"\u001b[0m\u001b[0;34m)\u001b[0m\u001b[0;34m\u001b[0m\u001b[0;34m\u001b[0m\u001b[0m\n\u001b[0m",
      "\u001b[0;32m<ipython-input-25-9e3ba4157a02>\u001b[0m in \u001b[0;36mbasic_model\u001b[0;34m(w1w2, m1m2, num_pilot, system)\u001b[0m\n\u001b[1;32m      2\u001b[0m     \u001b[0mfig\u001b[0m\u001b[0;34m,\u001b[0m \u001b[0max\u001b[0m \u001b[0;34m=\u001b[0m \u001b[0mplt\u001b[0m\u001b[0;34m.\u001b[0m\u001b[0msubplots\u001b[0m\u001b[0;34m(\u001b[0m\u001b[0;34m)\u001b[0m\u001b[0;34m\u001b[0m\u001b[0;34m\u001b[0m\u001b[0m\n\u001b[1;32m      3\u001b[0m \u001b[0;34m\u001b[0m\u001b[0m\n\u001b[0;32m----> 4\u001b[0;31m     \u001b[0max\u001b[0m\u001b[0;34m.\u001b[0m\u001b[0mscatter\u001b[0m\u001b[0;34m(\u001b[0m\u001b[0mw1w2\u001b[0m\u001b[0;34m,\u001b[0m \u001b[0mm1m2\u001b[0m\u001b[0;34m,\u001b[0m \u001b[0malpha\u001b[0m\u001b[0;34m=\u001b[0m\u001b[0;36m0.5\u001b[0m\u001b[0;34m)\u001b[0m\u001b[0;34m\u001b[0m\u001b[0;34m\u001b[0m\u001b[0m\n\u001b[0m\u001b[1;32m      5\u001b[0m \u001b[0;34m\u001b[0m\u001b[0m\n\u001b[1;32m      6\u001b[0m     \u001b[0mb\u001b[0m\u001b[0;34m,\u001b[0m \u001b[0mm\u001b[0m \u001b[0;34m=\u001b[0m \u001b[0mnp\u001b[0m\u001b[0;34m.\u001b[0m\u001b[0mpolynomial\u001b[0m\u001b[0;34m.\u001b[0m\u001b[0mpolynomial\u001b[0m\u001b[0;34m.\u001b[0m\u001b[0mpolyfit\u001b[0m\u001b[0;34m(\u001b[0m\u001b[0mw1w2\u001b[0m\u001b[0;34m,\u001b[0m \u001b[0mm1m2\u001b[0m\u001b[0;34m,\u001b[0m \u001b[0;36m1\u001b[0m\u001b[0;34m)\u001b[0m\u001b[0;34m\u001b[0m\u001b[0;34m\u001b[0m\u001b[0m\n",
      "\u001b[0;32m~/Documents/code/venvs/fmriprep-spark/lib64/python3.7/site-packages/matplotlib/__init__.py\u001b[0m in \u001b[0;36minner\u001b[0;34m(ax, *args, **kwargs)\u001b[0m\n\u001b[1;32m   1865\u001b[0m                         \u001b[0;34m\"the Matplotlib list!)\"\u001b[0m \u001b[0;34m%\u001b[0m \u001b[0;34m(\u001b[0m\u001b[0mlabel_namer\u001b[0m\u001b[0;34m,\u001b[0m \u001b[0mfunc\u001b[0m\u001b[0;34m.\u001b[0m\u001b[0m__name__\u001b[0m\u001b[0;34m)\u001b[0m\u001b[0;34m,\u001b[0m\u001b[0;34m\u001b[0m\u001b[0;34m\u001b[0m\u001b[0m\n\u001b[1;32m   1866\u001b[0m                         RuntimeWarning, stacklevel=2)\n\u001b[0;32m-> 1867\u001b[0;31m             \u001b[0;32mreturn\u001b[0m \u001b[0mfunc\u001b[0m\u001b[0;34m(\u001b[0m\u001b[0max\u001b[0m\u001b[0;34m,\u001b[0m \u001b[0;34m*\u001b[0m\u001b[0margs\u001b[0m\u001b[0;34m,\u001b[0m \u001b[0;34m**\u001b[0m\u001b[0mkwargs\u001b[0m\u001b[0;34m)\u001b[0m\u001b[0;34m\u001b[0m\u001b[0;34m\u001b[0m\u001b[0m\n\u001b[0m\u001b[1;32m   1868\u001b[0m \u001b[0;34m\u001b[0m\u001b[0m\n\u001b[1;32m   1869\u001b[0m         inner.__doc__ = _add_data_doc(inner.__doc__,\n",
      "\u001b[0;32m~/Documents/code/venvs/fmriprep-spark/lib64/python3.7/site-packages/matplotlib/axes/_axes.py\u001b[0m in \u001b[0;36mscatter\u001b[0;34m(self, x, y, s, c, marker, cmap, norm, vmin, vmax, alpha, linewidths, verts, edgecolors, **kwargs)\u001b[0m\n\u001b[1;32m   4255\u001b[0m         \u001b[0my\u001b[0m \u001b[0;34m=\u001b[0m \u001b[0mnp\u001b[0m\u001b[0;34m.\u001b[0m\u001b[0mma\u001b[0m\u001b[0;34m.\u001b[0m\u001b[0mravel\u001b[0m\u001b[0;34m(\u001b[0m\u001b[0my\u001b[0m\u001b[0;34m)\u001b[0m\u001b[0;34m\u001b[0m\u001b[0;34m\u001b[0m\u001b[0m\n\u001b[1;32m   4256\u001b[0m         \u001b[0;32mif\u001b[0m \u001b[0mx\u001b[0m\u001b[0;34m.\u001b[0m\u001b[0msize\u001b[0m \u001b[0;34m!=\u001b[0m \u001b[0my\u001b[0m\u001b[0;34m.\u001b[0m\u001b[0msize\u001b[0m\u001b[0;34m:\u001b[0m\u001b[0;34m\u001b[0m\u001b[0;34m\u001b[0m\u001b[0m\n\u001b[0;32m-> 4257\u001b[0;31m             \u001b[0;32mraise\u001b[0m \u001b[0mValueError\u001b[0m\u001b[0;34m(\u001b[0m\u001b[0;34m\"x and y must be the same size\"\u001b[0m\u001b[0;34m)\u001b[0m\u001b[0;34m\u001b[0m\u001b[0;34m\u001b[0m\u001b[0m\n\u001b[0m\u001b[1;32m   4258\u001b[0m \u001b[0;34m\u001b[0m\u001b[0m\n\u001b[1;32m   4259\u001b[0m         \u001b[0;32mif\u001b[0m \u001b[0ms\u001b[0m \u001b[0;32mis\u001b[0m \u001b[0;32mNone\u001b[0m\u001b[0;34m:\u001b[0m\u001b[0;34m\u001b[0m\u001b[0;34m\u001b[0m\u001b[0m\n",
      "\u001b[0;31mValueError\u001b[0m: x and y must be the same size"
     ]
    },
    {
     "data": {
      "image/png": "[encoded data removed]",
      "text/plain": [
       "<Figure size 432x288 with 1 Axes>"
      ]
     },
     "metadata": {
      "needs_background": "light"
     },
     "output_type": "display_data"
    }
   ],
   "source": [
    "basic_model(w1_w2_batch, m1_m2_batch, \"batch\")"
   ]
  },
  {
   "cell_type": "code",
   "execution_count": null,
   "metadata": {},
   "outputs": [],
   "source": [
    "m1_m2_8p = [(el['end_time'] - el['start_time'])\n",
    "            for el in pilots8 if el['success']]\n",
    "\n",
    "w1_w2_8p = [(get_pilot_avgpilots(el, el)[0] * get_ncpus(el['name']))\n",
    "            for el in pilots8 if el['success']]\n"
   ]
  },
  {
   "cell_type": "code",
   "execution_count": null,
   "metadata": {},
   "outputs": [],
   "source": [
    "basic_model(w1_w2_8p, m1_m2_8p, \"8\")"
   ]
  },
  {
   "cell_type": "code",
   "execution_count": null,
   "metadata": {},
   "outputs": [],
   "source": [
    "m1_m2_16p = [(el['end_time'] - el['start_time'],el['success'], idx, el)\n",
    "            for idx, el in enumerate(pilots16) if el['success']]\n",
    "print(m1_m2_16p)\n",
    "\n",
    "w1_w2_16p = [(get_pilot_avgpilots(el, el)[0] * get_ncpus(el['name']))\n",
    "            for el in pilots16 if el['success']]\n",
    "pilots16[4]"
   ]
  },
  {
   "cell_type": "code",
   "execution_count": null,
   "metadata": {},
   "outputs": [],
   "source": [
    "basic_model(w1_w2_16p, m1_m2_16p, \"16\")"
   ]
  },
  {
   "cell_type": "code",
   "execution_count": 34,
   "metadata": {},
   "outputs": [
    {
     "data": {
      "text/plain": [
       "[1235.9490327835083,\n",
       " 3912.079436779022,\n",
       " 3909.4779620170593,\n",
       " 3908.498528242111,\n",
       " 4215.985035419464,\n",
       " 3911.2241365909576,\n",
       " 3912.9592785835266,\n",
       " 3911.9120168685913,\n",
       " 3910.430239677429,\n",
       " 16832.81202316284]"
      ]
     },
     "execution_count": 34,
     "metadata": {},
     "output_type": "execute_result"
    }
   ],
   "source": [
    "dedicated_2['batch']"
   ]
  },
  {
   "cell_type": "code",
   "execution_count": 35,
   "metadata": {},
   "outputs": [
    {
     "data": {
      "text/plain": [
       "[{'name': 'batch_double',\n",
       "  'timestamp': '2019-04-16T00:04:09.319722',\n",
       "  'start_time': 1555387449.3197367,\n",
       "  'end_time': 1555388685.2687695,\n",
       "  'success': True,\n",
       "  'sid': [{'id': 165847,\n",
       "    'start_time': 1555387450.6103272,\n",
       "    'end_time': 1555391162.1983469,\n",
       "    'nodes': ['10.70.17.19', '10.70.17.10'],\n",
       "    'succeeded': True}]},\n",
       " {'name': 'batch_single',\n",
       "  'timestamp': '2019-04-16T00:24:51.767941',\n",
       "  'start_time': 1555388691.7679524,\n",
       "  'end_time': None,\n",
       "  'success': False,\n",
       "  'sid': []},\n",
       " {'name': 'batch_triple',\n",
       "  'timestamp': '2019-04-16T00:25:22.312044',\n",
       "  'start_time': 1555388722.312055,\n",
       "  'end_time': None,\n",
       "  'success': False,\n",
       "  'sid': []},\n",
       " {'name': 'batch_triple',\n",
       "  'timestamp': '2019-04-16T00:26:13.831201',\n",
       "  'start_time': 1555388773.8312125,\n",
       "  'end_time': None,\n",
       "  'success': False,\n",
       "  'sid': []},\n",
       " {'name': 'batch_single',\n",
       "  'timestamp': '2019-04-16T00:26:50.240449',\n",
       "  'start_time': 1555388810.240461,\n",
       "  'end_time': 1555398138.5210912,\n",
       "  'success': False,\n",
       "  'sid': [{'id': 166306,\n",
       "    'start_time': 1555388822.1935256,\n",
       "    'end_time': None,\n",
       "    'nodes': [],\n",
       "    'succeeded': False}]},\n",
       " {'name': 'batch_double',\n",
       "  'timestamp': '2019-04-16T03:02:49.969990',\n",
       "  'start_time': 1555398169.9700022,\n",
       "  'end_time': 1555402082.049439,\n",
       "  'success': True,\n",
       "  'sid': [{'id': 168687,\n",
       "    'start_time': 1555398170.6904438,\n",
       "    'end_time': 1555401886.6187177,\n",
       "    'nodes': ['10.70.38.46', '10.70.38.42'],\n",
       "    'succeeded': True}]},\n",
       " {'name': 'batch_triple',\n",
       "  'timestamp': '2019-04-16T04:25:09.582031',\n",
       "  'start_time': 1555403109.5820436,\n",
       "  'end_time': 1555407021.9693494,\n",
       "  'success': True,\n",
       "  'sid': [{'id': 169523,\n",
       "    'start_time': 1555403110.4413571,\n",
       "    'end_time': 1555406801.0157144,\n",
       "    'nodes': ['10.70.18.40', '10.70.18.49', '10.70.18.42'],\n",
       "    'succeeded': True}]},\n",
       " {'name': 'batch_double',\n",
       "  'timestamp': '2019-04-16T05:52:05.952826',\n",
       "  'start_time': 1555408325.9528384,\n",
       "  'end_time': 1555412235.4308004,\n",
       "  'success': True,\n",
       "  'sid': [{'id': 171312,\n",
       "    'start_time': 1555408326.988248,\n",
       "    'end_time': 1555412039.9187386,\n",
       "    'nodes': ['10.70.38.45', '10.70.38.42'],\n",
       "    'succeeded': True}]},\n",
       " {'name': 'batch_single',\n",
       "  'timestamp': '2019-04-16T07:19:07.857627',\n",
       "  'start_time': 1555413547.8576376,\n",
       "  'end_time': 1555414453.4576418,\n",
       "  'success': False,\n",
       "  'sid': [{'id': 172158,\n",
       "    'start_time': 1555413548.6802223,\n",
       "    'end_time': 1555414149.8542323,\n",
       "    'nodes': ['10.70.38.11'],\n",
       "    'succeeded': False}]},\n",
       " {'name': 'batch_single',\n",
       "  'timestamp': '2019-04-16T07:35:52.116302',\n",
       "  'start_time': 1555414552.116316,\n",
       "  'end_time': 1555415458.44841,\n",
       "  'success': False,\n",
       "  'sid': [{'id': 172292,\n",
       "    'start_time': 1555414663.6995037,\n",
       "    'end_time': 1555415259.8920727,\n",
       "    'nodes': ['10.70.38.11'],\n",
       "    'succeeded': False}]},\n",
       " {'name': 'batch_triple',\n",
       "  'timestamp': '2019-04-16T07:54:21.566115',\n",
       "  'start_time': 1555415661.566129,\n",
       "  'end_time': 1555419571.5302668,\n",
       "  'success': True,\n",
       "  'sid': [{'id': 172519,\n",
       "    'start_time': 1555415662.8451393,\n",
       "    'end_time': 1555419349.606948,\n",
       "    'nodes': ['10.70.38.51', '10.70.38.45', '10.70.38.42'],\n",
       "    'succeeded': True}]},\n",
       " {'name': 'batch_double',\n",
       "  'timestamp': '2019-04-16T09:01:26.438379',\n",
       "  'start_time': 1555419686.4383905,\n",
       "  'end_time': 1555423594.9369187,\n",
       "  'success': True,\n",
       "  'sid': [{'id': 173320,\n",
       "    'start_time': 1555419687.7977948,\n",
       "    'end_time': 1555423399.609036,\n",
       "    'nodes': ['10.70.95.15', '10.70.95.21'],\n",
       "    'succeeded': True}]},\n",
       " {'name': 'batch_triple',\n",
       "  'timestamp': '2019-04-16T10:23:27.682440',\n",
       "  'start_time': 1555424607.6824527,\n",
       "  'end_time': 1555428515.693218,\n",
       "  'success': True,\n",
       "  'sid': [{'id': 174266,\n",
       "    'start_time': 1555424613.9544723,\n",
       "    'end_time': 1555428302.6373801,\n",
       "    'nodes': ['10.70.95.15', '10.70.95.21', '10.70.38.51'],\n",
       "    'succeeded': True}]},\n",
       " {'name': 'batch_single',\n",
       "  'timestamp': '2019-04-16T11:30:28.983750',\n",
       "  'start_time': 1555428628.9837627,\n",
       "  'end_time': 1555429234.4977343,\n",
       "  'success': False,\n",
       "  'sid': [{'id': 175954,\n",
       "    'start_time': 1555428631.896035,\n",
       "    'end_time': 1555429225.5443342,\n",
       "    'nodes': ['10.70.95.21'],\n",
       "    'succeeded': False}]},\n",
       " {'name': 'batch_double',\n",
       "  'timestamp': '2019-04-16T11:47:14.060340',\n",
       "  'start_time': 1555429634.0603826,\n",
       "  'end_time': 1555433850.045418,\n",
       "  'success': True,\n",
       "  'sid': [{'id': 176645,\n",
       "    'start_time': 1555429972.824726,\n",
       "    'end_time': 1555433684.1729915,\n",
       "    'nodes': ['10.70.99.19', '10.70.95.21'],\n",
       "    'succeeded': True}]},\n",
       " {'name': 'batch_triple',\n",
       "  'timestamp': '2019-04-17T23:58:25.866964',\n",
       "  'start_time': 1555559905.8669798,\n",
       "  'end_time': 1555564428.946599,\n",
       "  'success': True,\n",
       "  'sid': [{'id': 205797,\n",
       "    'start_time': 1555560445.4138606,\n",
       "    'end_time': 1555564140.496946,\n",
       "    'nodes': ['10.70.18.22', '10.70.18.31', '10.70.18.42'],\n",
       "    'succeeded': True}]},\n",
       " {'name': 'batch_single',\n",
       "  'timestamp': '2019-04-18T01:14:03.442250',\n",
       "  'start_time': 1555564443.4422674,\n",
       "  'end_time': 1555565348.9116645,\n",
       "  'success': False,\n",
       "  'sid': [{'id': 206605,\n",
       "    'start_time': 1555564444.9410882,\n",
       "    'end_time': 1555565044.7269883,\n",
       "    'nodes': ['10.70.97.11'],\n",
       "    'succeeded': False}]},\n",
       " {'name': 'batch_double',\n",
       "  'timestamp': '2019-04-18T01:30:38.239220',\n",
       "  'start_time': 1555565438.2392313,\n",
       "  'end_time': 1555569349.463368,\n",
       "  'success': True,\n",
       "  'sid': [{'id': 206790,\n",
       "    'start_time': 1555565439.3928702,\n",
       "    'end_time': 1555569145.594861,\n",
       "    'nodes': ['10.70.37.44', '10.70.37.26'],\n",
       "    'succeeded': True}]},\n",
       " {'name': 'batch_double',\n",
       "  'timestamp': '2019-04-18T02:52:38.945917',\n",
       "  'start_time': 1555570358.9459307,\n",
       "  'end_time': 1555574271.9052093,\n",
       "  'success': True,\n",
       "  'sid': [{'id': 207323,\n",
       "    'start_time': 1555570360.0867608,\n",
       "    'end_time': 1555574070.083376,\n",
       "    'nodes': ['10.70.18.21', '10.70.38.11'],\n",
       "    'succeeded': True}]},\n",
       " {'name': 'batch_single',\n",
       "  'timestamp': '2019-04-18T04:14:39.573214',\n",
       "  'start_time': 1555575279.5732267,\n",
       "  'end_time': 1555575885.083711,\n",
       "  'success': False,\n",
       "  'sid': [{'id': 207543,\n",
       "    'start_time': 1555575280.5262964,\n",
       "    'end_time': 1555575870.0618372,\n",
       "    'nodes': ['10.70.18.24'],\n",
       "    'succeeded': False}]},\n",
       " {'name': 'batch_triple',\n",
       "  'timestamp': '2019-04-18T04:26:20.944053',\n",
       "  'start_time': 1555575980.944065,\n",
       "  'end_time': 1555579897.8789115,\n",
       "  'success': True,\n",
       "  'sid': [{'id': 207585,\n",
       "    'start_time': 1555575984.723513,\n",
       "    'end_time': 1555579670.4758992,\n",
       "    'nodes': ['10.70.18.21', '10.70.38.11', '10.70.18.24'],\n",
       "    'succeeded': True}]},\n",
       " {'name': 'batch_single',\n",
       "  'timestamp': '2019-04-18T05:33:19.243505',\n",
       "  'start_time': 1555579999.243517,\n",
       "  'end_time': 1555580604.7737856,\n",
       "  'success': False,\n",
       "  'sid': [{'id': 207779,\n",
       "    'start_time': 1555580000.381552,\n",
       "    'end_time': 1555580587.6808336,\n",
       "    'nodes': ['10.70.18.24'],\n",
       "    'succeeded': False}]},\n",
       " {'name': 'batch_double',\n",
       "  'timestamp': '2019-04-18T05:49:58.727846',\n",
       "  'start_time': 1555580998.727858,\n",
       "  'end_time': 1555584910.639875,\n",
       "  'success': True,\n",
       "  'sid': [{'id': 207840,\n",
       "    'start_time': 1555580999.7921805,\n",
       "    'end_time': 1555584710.9674056,\n",
       "    'nodes': ['10.70.18.21', '10.70.18.16'],\n",
       "    'succeeded': True}]},\n",
       " {'name': 'batch_triple',\n",
       "  'timestamp': '2019-04-18T07:12:00.852437',\n",
       "  'start_time': 1555585920.8524508,\n",
       "  'end_time': 1555589832.2229464,\n",
       "  'success': True,\n",
       "  'sid': [{'id': 208041,\n",
       "    'start_time': 1555585925.0340493,\n",
       "    'end_time': 1555589613.6500976,\n",
       "    'nodes': ['10.70.18.21', '10.70.38.11', '10.70.135.19'],\n",
       "    'succeeded': True}]},\n",
       " {'name': 'batch_double',\n",
       "  'timestamp': '2019-04-18T08:19:02.591138',\n",
       "  'start_time': 1555589942.5911498,\n",
       "  'end_time': 1555593853.0213895,\n",
       "  'success': True,\n",
       "  'sid': [{'id': 208251,\n",
       "    'start_time': 1555589943.7982707,\n",
       "    'end_time': 1555593648.3847184,\n",
       "    'nodes': ['10.70.18.21', '10.70.38.11'],\n",
       "    'succeeded': True}]},\n",
       " {'name': 'batch_single',\n",
       "  'timestamp': '2019-04-18T09:41:07.907086',\n",
       "  'start_time': 1555594867.9071035,\n",
       "  'end_time': 1555595779.1702309,\n",
       "  'success': False,\n",
       "  'sid': [{'id': 209126,\n",
       "    'start_time': 1555595134.011453,\n",
       "    'end_time': 1555595743.5480664,\n",
       "    'nodes': ['10.70.38.34'],\n",
       "    'succeeded': False}]},\n",
       " {'name': 'batch_triple',\n",
       "  'timestamp': '2019-04-18T10:02:25.967146',\n",
       "  'start_time': 1555596145.9671614,\n",
       "  'end_time': 1555600057.7961004,\n",
       "  'success': True,\n",
       "  'sid': [{'id': 209250,\n",
       "    'start_time': 1555596147.1443944,\n",
       "    'end_time': 1555599837.6368854,\n",
       "    'nodes': ['10.70.38.47', '10.70.38.11', '10.70.38.34'],\n",
       "    'succeeded': True}]},\n",
       " {'name': 'batch_triple',\n",
       "  'timestamp': '2019-04-18T11:09:27.698790',\n",
       "  'start_time': 1555600167.698802,\n",
       "  'end_time': 1555604679.6855755,\n",
       "  'success': True,\n",
       "  'sid': [{'id': 210511,\n",
       "    'start_time': 1555600924.6510255,\n",
       "    'end_time': 1555604613.4406765,\n",
       "    'nodes': ['10.70.97.16', '10.70.97.11', '10.70.97.32'],\n",
       "    'succeeded': True}]},\n",
       " {'name': 'batch_single',\n",
       "  'timestamp': '2019-04-18T12:27:17.967375',\n",
       "  'start_time': 1555604837.9673886,\n",
       "  'end_time': 1555606045.8091395,\n",
       "  'success': False,\n",
       "  'sid': [{'id': 212392,\n",
       "    'start_time': 1555605205.5975235,\n",
       "    'end_time': 1555605796.730965,\n",
       "    'nodes': ['10.70.38.48'],\n",
       "    'succeeded': False}]},\n",
       " {'name': 'batch_double',\n",
       "  'timestamp': '2019-04-18T12:55:23.749428',\n",
       "  'start_time': 1555606523.7494464,\n",
       "  'end_time': 1555623356.5614696,\n",
       "  'success': True,\n",
       "  'sid': [{'id': 212511,\n",
       "    'start_time': 1555619613.9996545,\n",
       "    'end_time': 1555623330.918981,\n",
       "    'nodes': ['10.70.38.48', '10.70.38.31'],\n",
       "    'succeeded': True}]}]"
      ]
     },
     "execution_count": 35,
     "metadata": {},
     "output_type": "execute_result"
    }
   ],
   "source": [
    "batch"
   ]
  },
  {
   "cell_type": "code",
   "execution_count": 36,
   "metadata": {},
   "outputs": [
    {
     "data": {
      "text/plain": [
       "1235.9490327835083"
      ]
     },
     "execution_count": 36,
     "metadata": {},
     "output_type": "execute_result"
    }
   ],
   "source": [
    "1555388685.2687695 - 1555387449.3197367"
   ]
  },
  {
   "cell_type": "code",
   "execution_count": null,
   "metadata": {},
   "outputs": [],
   "source": []
  }
 ],
 "metadata": {
  "kernelspec": {
   "display_name": "Python 3",
   "language": "python",
   "name": "python3"
  },
  "language_info": {
   "codemirror_mode": {
    "name": "ipython",
    "version": 3
   },
   "file_extension": ".py",
   "mimetype": "text/x-python",
   "name": "python",
   "nbconvert_exporter": "python",
   "pygments_lexer": "ipython3",
   "version": "3.7.2"
  }
 },
 "nbformat": 4,
 "nbformat_minor": 2
}
